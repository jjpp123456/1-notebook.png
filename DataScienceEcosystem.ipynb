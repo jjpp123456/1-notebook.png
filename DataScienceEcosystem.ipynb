{
 "cells": [
  {
   "cell_type": "markdown",
   "id": "ab9e08ea-52cd-446e-adc6-8bc06412f0a1",
   "metadata": {},
   "source": [
    "# Data Science Tools and Ecosystem"
   ]
  },
  {
   "cell_type": "markdown",
   "id": "6b0eba10-df57-4968-8f14-e357c39f043f",
   "metadata": {},
   "source": [
    "\"In this notebook, Data Science Tools and Ecosystem are summarized.\""
   ]
  },
  {
   "cell_type": "markdown",
   "id": "2029d89b-f35c-4e40-837d-3d85e0087cc3",
   "metadata": {},
   "source": [
    "\"Some of the popular languages that Data Scientists use are:\""
   ]
  },
  {
   "cell_type": "markdown",
   "id": "06b959e8-7008-41f0-8c74-d82e344f0a87",
   "metadata": {},
   "source": [
    "1. Python\n",
    "1. Scala\n",
    "1. Julia"
   ]
  },
  {
   "cell_type": "markdown",
   "id": "ff3b06de-271f-442e-be2e-a34c01440e64",
   "metadata": {},
   "source": [
    "\"Some of the commonly used libraries used by Data Scientists include:\"\n"
   ]
  },
  {
   "cell_type": "markdown",
   "id": "14405327-af06-49ca-b275-586746209f36",
   "metadata": {},
   "source": [
    "1. Anaconda\n",
    "1. Pandas\n",
    "1. Seaborn"
   ]
  },
  {
   "cell_type": "markdown",
   "id": "0a0bc324-7db2-4316-b4d8-4a835736d8ba",
   "metadata": {},
   "source": [
    "| Data Science Tools |\n",
    "|------------------------|\n",
    "| RStudio |\n",
    "| Apache Spark |\n",
    "| TensorFlow |"
   ]
  },
  {
   "cell_type": "markdown",
   "id": "ff736b8d-0c14-4460-abc9-bd3682223940",
   "metadata": {},
   "source": [
    "### Below are a few examples of evaluating arithmetic expressions in Python"
   ]
  },
  {
   "cell_type": "code",
   "execution_count": 4,
   "id": "d4590e1d-a518-47c0-80a1-51e55fc5834a",
   "metadata": {},
   "outputs": [
    {
     "data": {
      "text/plain": [
       "17"
      ]
     },
     "execution_count": 4,
     "metadata": {},
     "output_type": "execute_result"
    }
   ],
   "source": [
    "(3*4)+5"
   ]
  },
  {
   "cell_type": "markdown",
   "id": "1cdcae68-e8e1-4bdb-aae0-07d8acbc1eee",
   "metadata": {},
   "source": [
    "\"This will convert 200 minutes to hours by diving by 60\""
   ]
  },
  {
   "cell_type": "code",
   "execution_count": 8,
   "id": "5acc2ac1-03a5-4795-9a12-60429230851f",
   "metadata": {},
   "outputs": [
    {
     "data": {
      "text/plain": [
       "3.3333333333333335"
      ]
     },
     "execution_count": 8,
     "metadata": {},
     "output_type": "execute_result"
    }
   ],
   "source": [
    "200/60"
   ]
  },
  {
   "cell_type": "markdown",
   "id": "e4d8313e-ef27-4a2a-9983-d65cc2fa504c",
   "metadata": {},
   "source": [
    "*Objectives*"
   ]
  },
  {
   "cell_type": "markdown",
   "id": "4357074b-7d5e-413c-a785-eb5e656b632e",
   "metadata": {},
   "source": [
    "- In this notebook, Data Science Tools and Ecosystem are summarized.\n",
    "- Some of the popular languages that Data Scientists use are:\n",
    "- Some of the commonly used libraries used by Data Scientists include:\n",
    "- Below are a few examples of evaluating arithmetic expressions in Python\n",
    "- This will convert 200 minutes to hours by diving by 60"
   ]
  },
  {
   "cell_type": "markdown",
   "id": "e081ad54-40b1-4b31-a247-f7c3084b1ad3",
   "metadata": {},
   "source": [
    "## Author\n",
    "Juan Pablo Mazatan Orozco"
   ]
  }
 ],
 "metadata": {
  "kernelspec": {
   "display_name": "Python",
   "language": "python",
   "name": "conda-env-python-py"
  },
  "language_info": {
   "codemirror_mode": {
    "name": "ipython",
    "version": 3
   },
   "file_extension": ".py",
   "mimetype": "text/x-python",
   "name": "python",
   "nbconvert_exporter": "python",
   "pygments_lexer": "ipython3",
   "version": "3.7.12"
  }
 },
 "nbformat": 4,
 "nbformat_minor": 5
}
